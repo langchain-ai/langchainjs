{
  "cells": [
    {
      "cell_type": "raw",
      "id": "1957f5cb",
      "metadata": {
        "vscode": {
          "languageId": "raw"
        }
      },
      "source": [
        "---\n",
        "sidebar_label: PGVector\n",
        "sidebar_class_name: node-only\n",
        "---"
      ]
    },
    {
      "cell_type": "markdown",
      "id": "ef1f0986",
      "metadata": {},
      "source": [
        "# PGVectorStore\n",
        "\n",
        "```{=mdx}\n",
        ":::tip Compatibility\n",
        "Only available on Node.js.\n",
        ":::\n",
        "```\n",
        "\n",
        "To enable vector search in generic PostgreSQL databases, LangChain.js supports using the [`pgvector`](https://github.com/pgvector/pgvector) Postgres extension.\n",
        "\n",
        "This guide provides a quick overview for getting started with PGVector [vector stores](/docs/concepts/#vectorstores). For detailed documentation of all `PGVectorStore` features and configurations head to the [API reference](https://api.js.langchain.com/classes/langchain_community_vectorstores_pgvector.PGVectorStore.html)."
      ]
    },
    {
      "cell_type": "markdown",
      "id": "c824838d",
      "metadata": {},
      "source": [
        "## Overview\n",
        "\n",
        "### Integration details\n",
        "\n",
        "| Class | Package | [PY support](https://python.langchain.com/docs/integrations/vectorstores/pgvector/) | Package latest |\n",
        "| :--- | :--- | :---: | :---: |\n",
        "| [`PGVectorStore`](https://api.js.langchain.com/classes/langchain_community_vectorstores_pgvector.PGVectorStore.html) | [`@langchain/community`](https://npmjs.com/@langchain/community) | ✅ | ![NPM - Version](https://img.shields.io/npm/v/@langchain/community?style=flat-square&label=%20&) |"
      ]
    },
    {
      "cell_type": "markdown",
      "id": "36fdc060",
      "metadata": {},
      "source": [
        "## Setup\n",
        "\n",
        "To use PGVector vector stores, you'll need to set up a Postgres instance with the [`pgvector`](https://github.com/pgvector/pgvector) extension enabled. You'll also need to install the `@langchain/community` integration package with the [`pg`](https://www.npmjs.com/package/pg) package as a peer dependency.\n",
        "\n",
        "This guide will also use [OpenAI embeddings](/docs/integrations/text_embedding/openai), which require you to install the `@langchain/openai` integration package. You can also use [other supported embeddings models](/docs/integrations/text_embedding) if you wish.\n",
        "\n",
        "We'll also use the [`uuid`](https://www.npmjs.com/package/uuid) package to generate ids in the required format.\n",
        "\n",
        "```{=mdx}\n",
        "import IntegrationInstallTooltip from \"@mdx_components/integration_install_tooltip.mdx\";\n",
        "import Npm2Yarn from \"@theme/Npm2Yarn\";\n",
        "\n",
        "<IntegrationInstallTooltip></IntegrationInstallTooltip>\n",
        "\n",
        "<Npm2Yarn>\n",
        "  @langchain/community @langchain/openai @langchain/core pg uuid\n",
        "</Npm2Yarn>\n",
        "```\n",
        "\n",
        "### Setting up an instance\n",
        "\n",
        "There are many ways to connect to Postgres depending on how you've set up your instance. Here's one example of a local setup using a prebuilt Docker image provided by the `pgvector` team.\n",
        "\n",
        "Create a file with the below content named docker-compose.yml:\n",
        "\n",
        "```yaml\n",
        "# Run this command to start the database:\n",
        "# docker compose up\n",
        "services:\n",
        "  db:\n",
        "    hostname: 127.0.0.1\n",
        "    image: pgvector/pgvector:pg16\n",
        "    ports:\n",
        "      - 5432:5432\n",
        "    restart: always\n",
        "    environment:\n",
        "      - POSTGRES_DB=api\n",
        "      - POSTGRES_USER=myuser\n",
        "      - POSTGRES_PASSWORD=ChangeMe\n",
        "```\n",
        "\n",
        "And then in the same directory, run `docker compose up` to start the container.\n",
        "\n",
        "You can find more information on how to setup pgvector in the [official repository](https://github.com/pgvector/pgvector/).\n",
        "\n",
        "### Credentials\n",
        "\n",
        "To connect to you Postgres instance, you'll need corresponding credentials. For a full list of supported options, see the [`node-postgres` docs](https://node-postgres.com/apis/client).\n",
        "\n",
        "If you are using OpenAI embeddings for this guide, you'll need to set your OpenAI key as well:\n",
        "\n",
        "```typescript\n",
        "process.env.OPENAI_API_KEY = \"YOUR_API_KEY\";\n",
        "```\n",
        "\n",
        "If you want to get automated tracing of your model calls you can also set your [LangSmith](https://docs.smith.langchain.com/) API key by uncommenting below:\n",
        "\n",
        "```typescript\n",
        "// process.env.LANGSMITH_TRACING=\"true\"\n",
        "// process.env.LANGSMITH_API_KEY=\"your-api-key\"\n",
        "```"
      ]
    },
    {
      "cell_type": "markdown",
      "id": "93df377e",
      "metadata": {},
      "source": [
        "## Instantiation\n",
        "\n",
        "To instantiate the vector store, call the `.initialize()` static method. This will automatically check for the presence of a table, given by `tableName` in the passed `config`. If it is not there, it will create it with the required columns.\n",
        "\n",
        "```{=mdx}\n",
        "\n",
        "::::danger Security\n",
        "User-generated data such as usernames should not be used as input for table and column names.  \n",
        "**This may lead to SQL Injection!**\n",
        "::::\n",
        "\n",
        "```"
      ]
    },
    {
      "cell_type": "code",
      "execution_count": 1,
      "id": "dc37144c-208d-4ab3-9f3a-0407a69fe052",
      "metadata": {
        "tags": []
      },
      "outputs": [],
      "source": [
        "import {\n",
        "  PGVectorStore,\n",
        "  DistanceStrategy,\n",
        "} from \"@langchain/community/vectorstores/pgvector\";\n",
        "import { OpenAIEmbeddings } from \"@langchain/openai\";\n",
        "import { PoolConfig } from \"pg\";\n",
        "\n",
        "const embeddings = new OpenAIEmbeddings({\n",
        "  model: \"text-embedding-3-small\",\n",
        "});\n",
        "\n",
        "// Sample config\n",
        "const config = {\n",
        "  postgresConnectionOptions: {\n",
        "    type: \"postgres\",\n",
        "    host: \"127.0.0.1\",\n",
        "    port: 5433,\n",
        "    user: \"myuser\",\n",
        "    password: \"ChangeMe\",\n",
        "    database: \"api\",\n",
        "  } as PoolConfig,\n",
        "  tableName: \"testlangchainjs\",\n",
        "  columns: {\n",
        "    idColumnName: \"id\",\n",
        "    vectorColumnName: \"vector\",\n",
        "    contentColumnName: \"content\",\n",
        "    metadataColumnName: \"metadata\",\n",
        "  },\n",
        "  // supported distance strategies: cosine (default), innerProduct, or euclidean\n",
        "  distanceStrategy: \"cosine\" as DistanceStrategy,\n",
        "};\n",
        "\n",
        "const vectorStore = await PGVectorStore.initialize(\n",
        "  embeddings,\n",
        "  config\n",
        ");"
      ]
    },
    {
      "cell_type": "markdown",
      "id": "ac6071d4",
      "metadata": {},
      "source": [
        "## Manage vector store\n",
        "\n",
        "### Add items to vector store"
      ]
    },
    {
      "cell_type": "code",
      "execution_count": 2,
      "id": "17f5efc0",
      "metadata": {},
      "outputs": [],
      "source": [
        "import { v4 as uuidv4 } from \"uuid\";\n",
        "import type { Document } from \"@langchain/core/documents\";\n",
        "\n",
        "const document1: Document = {\n",
        "  pageContent: \"The powerhouse of the cell is the mitochondria\",\n",
        "  metadata: { source: \"https://example.com\" }\n",
        "};\n",
        "\n",
        "const document2: Document = {\n",
        "  pageContent: \"Buildings are made out of brick\",\n",
        "  metadata: { source: \"https://example.com\" }\n",
        "};\n",
        "\n",
        "const document3: Document = {\n",
        "  pageContent: \"Mitochondria are made out of lipids\",\n",
        "  metadata: { source: \"https://example.com\" }\n",
        "};\n",
        "\n",
        "const document4: Document = {\n",
        "  pageContent: \"The 2024 Olympics are in Paris\",\n",
        "  metadata: { source: \"https://example.com\" }\n",
        "}\n",
        "\n",
        "const documents = [document1, document2, document3, document4];\n",
        "\n",
        "const ids = [uuidv4(), uuidv4(), uuidv4(), uuidv4()]\n",
        "\n",
        "await vectorStore.addDocuments(documents, { ids: ids });"
      ]
    },
    {
      "cell_type": "markdown",
      "id": "dcf1b905",
      "metadata": {},
      "source": [
        "### Delete items from vector store"
      ]
    },
    {
      "cell_type": "code",
      "execution_count": 4,
      "id": "ef61e188",
      "metadata": {},
      "outputs": [],
      "source": [
        "const id4 = ids[ids.length - 1];\n",
        "\n",
        "await vectorStore.delete({ ids: [id4] });"
      ]
    },
    {
      "cell_type": "markdown",
      "id": "c3620501",
      "metadata": {},
      "source": [
        "## Query vector store\n",
        "\n",
        "Once your vector store has been created and the relevant documents have been added you will most likely wish to query it during the running of your chain or agent. \n",
        "\n",
        "### Query directly\n",
        "\n",
        "Performing a simple similarity search can be done as follows:"
      ]
    },
    {
      "cell_type": "code",
      "execution_count": 5,
      "id": "aa0a16fa",
      "metadata": {},
      "outputs": [
        {
          "name": "stdout",
          "output_type": "stream",
          "text": [
            "* The powerhouse of the cell is the mitochondria [{\"source\":\"https://example.com\"}]\n",
            "* Mitochondria are made out of lipids [{\"source\":\"https://example.com\"}]\n"
          ]
        }
      ],
      "source": [
        "const filter = { source: \"https://example.com\" };\n",
        "\n",
        "const similaritySearchResults = await vectorStore.similaritySearch(\"biology\", 2, filter);\n",
        "\n",
        "for (const doc of similaritySearchResults) {\n",
        "  console.log(`* ${doc.pageContent} [${JSON.stringify(doc.metadata, null)}]`);\n",
        "}"
      ]
    },
    {
      "cell_type": "markdown",
      "id": "3ed9d733",
      "metadata": {},
      "source": [
        "The above filter syntax supports exact match, but the following are also supported:\n",
        "\n",
        "#### Using the `in` operator\n",
        "\n",
        "```json\n",
        "{\n",
        "  \"field\": {\n",
        "    \"in\": [\"value1\", \"value2\"],\n",
        "  }\n",
        "}\n",
        "```\n",
        "\n",
        "#### Using the `notIn` operator\n",
        "\n",
        "```json\n",
        "{\n",
        "  \"field\": {\n",
        "    \"notIn\": [\"value1\", \"value2\"],\n",
        "  }\n",
        "}\n",
        "```\n",
        "\n",
        "#### Using the `arrayContains` operator\n",
        "\n",
        "```json\n",
        "{\n",
        "  \"field\": {\n",
        "    \"arrayContains\": [\"value1\", \"value2\"],\n",
        "  }\n",
        "}\n",
        "```\n",
        "\n",
        "If you want to execute a similarity search and receive the corresponding scores you can run:"
      ]
    },
    {
      "cell_type": "code",
      "execution_count": 6,
      "id": "5efd2eaa",
      "metadata": {},
      "outputs": [
        {
          "name": "stdout",
          "output_type": "stream",
          "text": [
            "* [SIM=0.835] The powerhouse of the cell is the mitochondria [{\"source\":\"https://example.com\"}]\n",
            "* [SIM=0.852] Mitochondria are made out of lipids [{\"source\":\"https://example.com\"}]\n"
          ]
        }
      ],
      "source": [
        "const similaritySearchWithScoreResults = await vectorStore.similaritySearchWithScore(\"biology\", 2, filter)\n",
        "\n",
        "for (const [doc, score] of similaritySearchWithScoreResults) {\n",
        "  console.log(`* [SIM=${score.toFixed(3)}] ${doc.pageContent} [${JSON.stringify(doc.metadata)}]`);\n",
        "}"
      ]
    },
    {
      "cell_type": "markdown",
      "id": "0c235cdc",
      "metadata": {},
      "source": [
        "### Query by turning into retriever\n",
        "\n",
        "You can also transform the vector store into a [retriever](/docs/concepts/retrievers) for easier usage in your chains. "
      ]
    },
    {
      "cell_type": "code",
      "execution_count": 7,
      "id": "f3460093",
      "metadata": {},
      "outputs": [
        {
          "name": "stdout",
          "output_type": "stream",
          "text": [
            "[\n",
            "  Document {\n",
            "    pageContent: 'The powerhouse of the cell is the mitochondria',\n",
            "    metadata: { source: 'https://example.com' },\n",
            "    id: undefined\n",
            "  },\n",
            "  Document {\n",
            "    pageContent: 'Mitochondria are made out of lipids',\n",
            "    metadata: { source: 'https://example.com' },\n",
            "    id: undefined\n",
            "  }\n",
            "]\n"
          ]
        }
      ],
      "source": [
        "const retriever = vectorStore.asRetriever({\n",
        "  // Optional filter\n",
        "  filter: filter,\n",
        "  k: 2,\n",
        "});\n",
        "await retriever.invoke(\"biology\");"
      ]
    },
    {
      "cell_type": "markdown",
      "id": "e2e0a211",
      "metadata": {},
      "source": [
        "### Usage for retrieval-augmented generation\n",
        "\n",
        "For guides on how to use this vector store for retrieval-augmented generation (RAG), see the following sections:\n",
        "\n",
        "- [Tutorials: working with external knowledge](/docs/tutorials/#working-with-external-knowledge).\n",
        "- [How-to: Question and answer with RAG](/docs/how_to/#qa-with-rag)\n",
        "- [Retrieval conceptual docs](/docs/concepts/retrieval)"
      ]
    },
    {
      "cell_type": "markdown",
      "id": "371727a8",
      "metadata": {},
      "source": [
        "## Advanced: reusing connections\n",
        "\n",
        "You can reuse connections by creating a pool, then creating new `PGVectorStore` instances directly via the constructor.\n",
        "\n",
        "Note that you should call `.initialize()` to set up your database at least once to set up your tables properly before using the constructor."
      ]
    },
    {
      "cell_type": "code",
      "execution_count": null,
      "id": "09efeac4",
      "metadata": {},
      "outputs": [],
      "source": [
        "import { OpenAIEmbeddings } from \"@langchain/openai\";\n",
        "import { PGVectorStore } from \"@langchain/community/vectorstores/pgvector\";\n",
        "import pg from \"pg\";\n",
        "\n",
        "// First, follow set-up instructions at\n",
        "// https://js.langchain.com/docs/modules/indexes/vector_stores/integrations/pgvector\n",
        "\n",
        "const reusablePool = new pg.Pool({\n",
        "  host: \"127.0.0.1\",\n",
        "  port: 5433,\n",
        "  user: \"myuser\",\n",
        "  password: \"ChangeMe\",\n",
        "  database: \"api\",\n",
        "});\n",
        "\n",
        "const originalConfig = {\n",
        "  pool: reusablePool,\n",
        "  tableName: \"testlangchainjs\",\n",
        "  collectionName: \"sample\",\n",
        "  collectionTableName: \"collections\",\n",
        "  columns: {\n",
        "    idColumnName: \"id\",\n",
        "    vectorColumnName: \"vector\",\n",
        "    contentColumnName: \"content\",\n",
        "    metadataColumnName: \"metadata\",\n",
        "  },\n",
        "};\n",
        "\n",
        "// Set up the DB.\n",
        "// Can skip this step if you've already initialized the DB.\n",
        "// await PGVectorStore.initialize(new OpenAIEmbeddings(), originalConfig);\n",
        "const pgvectorStore = new PGVectorStore(new OpenAIEmbeddings(), originalConfig);\n",
        "\n",
        "await pgvectorStore.addDocuments([\n",
        "  { pageContent: \"what's this\", metadata: { a: 2 } },\n",
        "  { pageContent: \"Cat drinks milk\", metadata: { a: 1 } },\n",
        "]);\n",
        "\n",
        "const results = await pgvectorStore.similaritySearch(\"water\", 1);\n",
        "\n",
        "console.log(results);\n",
        "\n",
        "/*\n",
        "  [ Document { pageContent: 'Cat drinks milk', metadata: { a: 1 } } ]\n",
        "*/\n",
        "\n",
        "const pgvectorStore2 = new PGVectorStore(new OpenAIEmbeddings(), {\n",
        "  pool: reusablePool,\n",
        "  tableName: \"testlangchainjs\",\n",
        "  collectionTableName: \"collections\",\n",
        "  collectionName: \"some_other_collection\",\n",
        "  columns: {\n",
        "    idColumnName: \"id\",\n",
        "    vectorColumnName: \"vector\",\n",
        "    contentColumnName: \"content\",\n",
        "    metadataColumnName: \"metadata\",\n",
        "  },\n",
        "});\n",
        "\n",
        "const results2 = await pgvectorStore2.similaritySearch(\"water\", 1);\n",
        "\n",
        "console.log(results2);\n",
        "\n",
        "/*\n",
        "  []\n",
        "*/\n",
        "\n",
        "await reusablePool.end();"
      ]
    },
    {
      "cell_type": "markdown",
      "id": "23bd7096",
      "metadata": {},
      "source": [
        "## Create HNSW Index\n",
        "\n",
        "By default, the extension performs a sequential scan search, with 100% recall. You might consider creating an HNSW index for approximate nearest neighbor (ANN) search to speed up `similaritySearchVectorWithScore` execution time. To create the HNSW index on your vector column, use the `createHnswIndex()` method.\n",
        "\n",
        "The method parameters include:\n",
        "\n",
        "- `dimensions`: Defines the number of dimensions in your vector data type, up to 2000. For example, use 1536 for OpenAI's text-embedding-ada-002 and Amazon's amazon.titan-embed-text-v1 models.\n",
        "\n",
        "- `m?`: The max number of connections per layer (16 by default). Index build time improves with smaller values, while higher values can speed up search queries.\n",
        "\n",
        "- `efConstruction?`: The size of the dynamic candidate list for constructing the graph (64 by default). A higher value can potentially improve the index quality at the cost of index build time.\n",
        "\n",
        "- `distanceFunction?`: The distance function name you want to use, is automatically selected based on the distanceStrategy.\n",
        "\n",
        "For more info, see the [Pgvector GitHub repo](https://github.com/pgvector/pgvector?tab=readme-ov-file#hnsw) and the [HNSW paper from Malkov Yu A. and Yashunin D. A.. 2020. Efficient and robust approximate nearest neighbor search using hierarchical navigable small world graphs](https://arxiv.org/pdf/1603.09320)"
      ]
    },
    {
      "cell_type": "code",
      "execution_count": null,
      "id": "5e5b9595",
      "metadata": {},
      "outputs": [],
      "source": [
        "import { OpenAIEmbeddings } from \"@langchain/openai\";\n",
        "import {\n",
        "  DistanceStrategy,\n",
        "  PGVectorStore,\n",
        "} from \"@langchain/community/vectorstores/pgvector\";\n",
        "import { PoolConfig } from \"pg\";\n",
        "\n",
        "// First, follow set-up instructions at\n",
        "// https://js.langchain.com/docs/modules/indexes/vector_stores/integrations/pgvector\n",
        "\n",
        "const hnswConfig = {\n",
        "  postgresConnectionOptions: {\n",
        "    type: \"postgres\",\n",
        "    host: \"127.0.0.1\",\n",
        "    port: 5433,\n",
        "    user: \"myuser\",\n",
        "    password: \"ChangeMe\",\n",
        "    database: \"api\",\n",
        "  } as PoolConfig,\n",
        "  tableName: \"testlangchainjs\",\n",
        "  columns: {\n",
        "    idColumnName: \"id\",\n",
        "    vectorColumnName: \"vector\",\n",
        "    contentColumnName: \"content\",\n",
        "    metadataColumnName: \"metadata\",\n",
        "  },\n",
        "  // supported distance strategies: cosine (default), innerProduct, or euclidean\n",
        "  distanceStrategy: \"cosine\" as DistanceStrategy,\n",
        "};\n",
        "\n",
        "const hnswPgVectorStore = await PGVectorStore.initialize(\n",
        "  new OpenAIEmbeddings(),\n",
        "  hnswConfig\n",
        ");\n",
        "\n",
        "// create the index\n",
        "await hnswPgVectorStore.createHnswIndex({\n",
        "  dimensions: 1536,\n",
        "  efConstruction: 64,\n",
        "  m: 16,\n",
        "});\n",
        "\n",
        "await hnswPgVectorStore.addDocuments([\n",
        "  { pageContent: \"what's this\", metadata: { a: 2, b: [\"tag1\", \"tag2\"] } },\n",
        "  { pageContent: \"Cat drinks milk\", metadata: { a: 1, b: [\"tag2\"] } },\n",
        "]);\n",
        "\n",
        "const model = new OpenAIEmbeddings();\n",
        "const query = await model.embedQuery(\"water\");\n",
        "const hnswResults = await hnswPgVectorStore.similaritySearchVectorWithScore(query, 1);\n",
        "\n",
        "console.log(hnswResults);\n",
        "\n",
        "await pgvectorStore.end();"
      ]
    },
    {
      "cell_type": "markdown",
      "id": "069f1b5f",
      "metadata": {},
      "source": [
        "## Closing connections\n",
        "\n",
        "Make sure you close the connection when you are finished to avoid excessive resource consumption:"
      ]
    },
    {
      "cell_type": "code",
      "execution_count": null,
      "id": "f71ce986",
      "metadata": {},
      "outputs": [],
      "source": [
        "await vectorStore.end();"
      ]
    },
    {
      "cell_type": "markdown",
      "id": "8a27244f",
      "metadata": {},
      "source": [
        "## API reference\n",
        "\n",
        "For detailed documentation of all `PGVectorStore` features and configurations head to the [API reference](https://api.js.langchain.com/classes/langchain_community_vectorstores_pgvector.PGVectorStore.html)."
      ]
    }
  ],
  "metadata": {
    "kernelspec": {
      "display_name": "TypeScript",
      "language": "typescript",
      "name": "tslab"
    },
    "language_info": {
      "codemirror_mode": {
        "mode": "typescript",
        "name": "javascript",
        "typescript": true
      },
      "file_extension": ".ts",
      "mimetype": "text/typescript",
      "name": "typescript",
      "version": "3.7.2"
    }
  },
  "nbformat": 4,
  "nbformat_minor": 5
}
