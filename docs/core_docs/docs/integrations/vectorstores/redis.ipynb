{
  "cells": [
    {
      "cell_type": "raw",
      "id": "1957f5cb",
      "metadata": {
        "vscode": {
          "languageId": "raw"
        }
      },
      "source": [
        "---\n",
        "sidebar_label: Redis\n",
        "sidebar_class_name: node-only\n",
        "---"
      ]
    },
    {
      "cell_type": "markdown",
      "id": "ef1f0986",
      "metadata": {},
      "source": [
        "# RedisVectorStore\n",
        "\n",
        "```{=mdx}\n",
        ":::tip Compatibility\n",
        "Only available on Node.js.\n",
        ":::\n",
        "```\n",
        "\n",
        "[Redis](https://redis.io/) is a fast open source, in-memory data store. As part of the [Redis Stack](https://redis.io/docs/latest/operate/oss_and_stack/install/install-stack/), [RediSearch](https://redis.io/docs/latest/develop/interact/search-and-query/) is the module that enables vector similarity semantic search, as well as many other types of searching.\n",
        "\n",
        "This guide provides a quick overview for getting started with Redis [vector stores](/docs/concepts/#vectorstores). For detailed documentation of all `RedisVectorStore` features and configurations head to the [API reference](https://api.js.langchain.com/classes/langchain_redis.RedisVectorStore.html)."
      ]
    },
    {
      "cell_type": "markdown",
      "id": "c824838d",
      "metadata": {},
      "source": [
        "## Overview\n",
        "\n",
        "### Integration details\n",
        "\n",
        "| Class | Package | [PY support](https://python.langchain.com/docs/integrations/vectorstores/redis/) |  Package latest |\n",
        "| :--- | :--- | :---: | :---: |\n",
        "| [`RedisVectorStore`](https://api.js.langchain.com/classes/langchain_redis.RedisVectorStore.html) | [`@langchain/redis`](https://npmjs.com/@langchain/redis/) | ✅ |  ![NPM - Version](https://img.shields.io/npm/v/@langchain/redis?style=flat-square&label=%20&) |"
      ]
    },
    {
      "cell_type": "markdown",
      "id": "36fdc060",
      "metadata": {},
      "source": [
        "## Setup\n",
        "\n",
        "To use Redis vector stores, you'll need to set up a Redis instance and install the `@langchain/redis` integration package. You can also install the [`node-redis`](https://github.com/redis/node-redis) package to initialize the vector store with a specific client instance.\n",
        "\n",
        "This guide will also use [OpenAI embeddings](/docs/integrations/text_embedding/openai), which require you to install the `@langchain/openai` integration package. You can also use [other supported embeddings models](/docs/integrations/text_embedding) if you wish.\n",
        "\n",
        "```{=mdx}\n",
        "import IntegrationInstallTooltip from \"@mdx_components/integration_install_tooltip.mdx\";\n",
        "import Npm2Yarn from \"@theme/Npm2Yarn\";\n",
        "\n",
        "<IntegrationInstallTooltip></IntegrationInstallTooltip>\n",
        "\n",
        "<Npm2Yarn>\n",
        "  @langchain/redis @langchain/core redis @langchain/openai\n",
        "</Npm2Yarn>\n",
        "```\n",
        "\n",
        "You can set up a Redis instance locally with Docker by following [these instructions](https://redis.io/docs/latest/operate/oss_and_stack/install/install-stack/docker/#redisredis-stack).\n",
        "\n",
        "### Credentials\n",
        "\n",
        "Once you've set up an instance, set the `REDIS_URL` environment variable:\n",
        "\n",
        "```typescript\n",
        "process.env.REDIS_URL = \"your-redis-url\"\n",
        "```\n",
        "\n",
        "If you are using OpenAI embeddings for this guide, you'll need to set your OpenAI key as well:\n",
        "\n",
        "```typescript\n",
        "process.env.OPENAI_API_KEY = \"YOUR_API_KEY\";\n",
        "```\n",
        "\n",
        "If you want to get automated tracing of your model calls you can also set your [LangSmith](https://docs.smith.langchain.com/) API key by uncommenting below:\n",
        "\n",
        "```typescript\n",
        "// process.env.LANGSMITH_TRACING=\"true\"\n",
        "// process.env.LANGSMITH_API_KEY=\"your-api-key\"\n",
        "```"
      ]
    },
    {
      "cell_type": "markdown",
      "id": "93df377e",
      "metadata": {},
      "source": [
        "## Instantiation"
      ]
    },
    {
      "cell_type": "code",
      "execution_count": 1,
      "id": "dc37144c-208d-4ab3-9f3a-0407a69fe052",
      "metadata": {
        "tags": []
      },
      "outputs": [],
      "source": [
        "import { RedisVectorStore } from \"@langchain/redis\";\n",
        "import { OpenAIEmbeddings } from \"@langchain/openai\";\n",
        "\n",
        "import { createClient } from \"redis\";\n",
        "\n",
        "const embeddings = new OpenAIEmbeddings({\n",
        "  model: \"text-embedding-3-small\",\n",
        "});\n",
        "\n",
        "const client = createClient({\n",
        "  url: process.env.REDIS_URL ?? \"redis://localhost:6379\",\n",
        "});\n",
        "await client.connect();\n",
        "\n",
        "const vectorStore = new RedisVectorStore(embeddings, {\n",
        "  redisClient: client,\n",
        "  indexName: \"langchainjs-testing\",\n",
        "});"
      ]
    },
    {
      "cell_type": "markdown",
      "id": "ac6071d4",
      "metadata": {},
      "source": [
        "## Manage vector store\n",
        "\n",
        "### Add items to vector store"
      ]
    },
    {
      "cell_type": "code",
      "execution_count": 2,
      "id": "17f5efc0",
      "metadata": {},
      "outputs": [],
      "source": [
        "import type { Document } from \"@langchain/core/documents\";\n",
        "\n",
        "const document1: Document = {\n",
        "  pageContent: \"The powerhouse of the cell is the mitochondria\",\n",
        "  metadata: { type: \"example\" }\n",
        "};\n",
        "\n",
        "const document2: Document = {\n",
        "  pageContent: \"Buildings are made out of brick\",\n",
        "  metadata: { type: \"example\" }\n",
        "};\n",
        "\n",
        "const document3: Document = {\n",
        "  pageContent: \"Mitochondria are made out of lipids\",\n",
        "  metadata: { type: \"example\" }\n",
        "};\n",
        "\n",
        "const document4: Document = {\n",
        "  pageContent: \"The 2024 Olympics are in Paris\",\n",
        "  metadata: { type: \"example\" }\n",
        "}\n",
        "\n",
        "const documents = [document1, document2, document3, document4];\n",
        "\n",
        "await vectorStore.addDocuments(documents);"
      ]
    },
    {
      "cell_type": "markdown",
      "id": "dcf1b905",
      "metadata": {},
      "source": [
        "Top-level document ids are currently not supported, but you can delete documents by providing their IDs directly to the vector store."
      ]
    },
    {
      "cell_type": "markdown",
      "id": "c3620501",
      "metadata": {},
      "source": [
        "## Query vector store\n",
        "\n",
        "Once your vector store has been created and the relevant documents have been added you will most likely wish to query it during the running of your chain or agent. \n",
        "\n",
        "### Query directly\n",
        "\n",
        "Performing a simple similarity search can be done as follows:"
      ]
    },
    {
      "cell_type": "code",
      "execution_count": 7,
      "id": "aa0a16fa",
      "metadata": {},
      "outputs": [],
      "source": [
        "const similaritySearchResults = await vectorStore.similaritySearch(\"biology\", 2);\n",
        "\n",
        "for (const doc of similaritySearchResults) {\n",
        "  console.log(`* ${doc.pageContent} [${JSON.stringify(doc.metadata, null)}]`);\n",
        "}"
      ]
    },
    {
      "cell_type": "markdown",
      "id": "3ed9d733",
      "metadata": {},
      "source": [
        "Filtering will currently look for any metadata key containing the provided string.\n",
        "\n",
        "If you want to execute a similarity search and receive the corresponding scores you can run:"
      ]
    },
    {
      "cell_type": "code",
      "execution_count": 8,
      "id": "5efd2eaa",
      "metadata": {},
      "outputs": [
        {
          "name": "stdout",
          "output_type": "stream",
          "text": [
            "* [SIM=0.835] The powerhouse of the cell is the mitochondria [{\"type\":\"example\"}]\n",
            "* [SIM=0.852] Mitochondria are made out of lipids [{\"type\":\"example\"}]\n"
          ]
        }
      ],
      "source": [
        "const similaritySearchWithScoreResults = await vectorStore.similaritySearchWithScore(\"biology\", 2)\n",
        "\n",
        "for (const [doc, score] of similaritySearchWithScoreResults) {\n",
        "  console.log(`* [SIM=${score.toFixed(3)}] ${doc.pageContent} [${JSON.stringify(doc.metadata)}]`);\n",
        "}"
      ]
    },
    {
      "cell_type": "markdown",
      "id": "0c235cdc",
      "metadata": {},
      "source": [
        "### Query by turning into retriever\n",
        "\n",
        "You can also transform the vector store into a [retriever](/docs/concepts/retrievers) for easier usage in your chains. "
      ]
    },
    {
      "cell_type": "code",
      "execution_count": 9,
      "id": "f3460093",
      "metadata": {},
      "outputs": [
        {
          "name": "stdout",
          "output_type": "stream",
          "text": [
            "[\n",
            "  Document {\n",
            "    pageContent: 'The powerhouse of the cell is the mitochondria',\n",
            "    metadata: { type: 'example' },\n",
            "    id: undefined\n",
            "  },\n",
            "  Document {\n",
            "    pageContent: 'Mitochondria are made out of lipids',\n",
            "    metadata: { type: 'example' },\n",
            "    id: undefined\n",
            "  }\n",
            "]\n"
          ]
        }
      ],
      "source": [
        "const retriever = vectorStore.asRetriever({\n",
        "  k: 2,\n",
        "});\n",
        "await retriever.invoke(\"biology\");"
      ]
    },
    {
      "cell_type": "markdown",
      "id": "46781841",
      "metadata": {},
      "source": [
        "## Advanced Features\n",
        "\n",
        "### Custom Schema and Metadata Filtering\n",
        "\n",
        "The Redis vector store supports custom schema definitions for metadata fields, enabling more efficient filtering and searching. This feature allows you to define specific field types and validation rules for your metadata.\n",
        "\n",
        "#### Defining a Custom Schema\n",
        "\n",
        "You can define a custom schema when creating your vector store to specify field types, validation rules, and indexing options:\n"
      ]
    },
    {
      "cell_type": "code",
      "execution_count": null,
      "id": "e31d7081",
      "metadata": {},
      "outputs": [],
      "source": [
        "import { RedisVectorStore } from \"@langchain/redis\";\n",
        "import { OpenAIEmbeddings } from \"@langchain/openai\";\n",
        "import { SchemaFieldTypes } from \"redis\";\n",
        "import { createClient } from \"redis\";\n",
        "\n",
        "const embeddings = new OpenAIEmbeddings({\n",
        "  model: \"text-embedding-3-small\",\n",
        "});\n",
        "\n",
        "const client = createClient({\n",
        "  url: process.env.REDIS_URL ?? \"redis://localhost:6379\",\n",
        "});\n",
        "await client.connect();\n",
        "\n",
        "// Define custom schema for metadata fields\n",
        "const customSchema: RedisVectorStoreConfig[\"customSchema\"] = {\n",
        "  userId: { \n",
        "    type: SchemaFieldTypes.TEXT, \n",
        "    required: true,\n",
        "    SORTABLE: true \n",
        "  },\n",
        "  category: { \n",
        "    type: SchemaFieldTypes.TAG, \n",
        "    SORTABLE: true,\n",
        "    SEPARATOR: \",\" \n",
        "  },\n",
        "  score: { \n",
        "    type: SchemaFieldTypes.NUMERIC, \n",
        "    SORTABLE: true \n",
        "  },\n",
        "  tags: { \n",
        "    type: SchemaFieldTypes.TAG, \n",
        "    SEPARATOR: \",\",\n",
        "    CASESENSITIVE: true \n",
        "  },\n",
        "  description: { \n",
        "    type: SchemaFieldTypes.TEXT, \n",
        "    NOSTEM: true,\n",
        "    WEIGHT: 2.0 \n",
        "  }\n",
        "};\n",
        "\n",
        "const vectorStoreWithSchema = new RedisVectorStore(embeddings, {\n",
        "  redisClient: client,\n",
        "  indexName: \"langchainjs-custom-schema\",\n",
        "  customSchema\n",
        "});\n"
      ]
    },
    {
      "cell_type": "markdown",
      "id": "002f7c10",
      "metadata": {},
      "source": [
        "#### Schema Field Types\n",
        "\n",
        "The custom schema supports three main field types:\n",
        "\n",
        "- **TEXT**: Full-text searchable fields with optional stemming, weighting, and sorting\n",
        "- **TAG**: Categorical fields for exact matching, with support for multiple values and custom separators\n",
        "- **NUMERIC**: Numeric fields supporting range queries and sorting\n",
        "\n",
        "#### Field Configuration Options\n",
        "\n",
        "Each field can be configured with various options:\n",
        "\n",
        "- `required`: Whether the field must be present in metadata (default: false)\n",
        "- `SORTABLE`: Enable sorting on this field (default: undefined)\n",
        "- `SEPARATOR`: For TAG fields, specify the separator for multiple values (default: \",\")\n",
        "- `CASESENSITIVE`: For TAG fields, enable case-sensitive matching (Redis expects `true`, not boolean)\n",
        "- `NOSTEM`: For TEXT fields, disable stemming (Redis expects `true`, not boolean)  \n",
        "- `WEIGHT`: For TEXT fields, specify search weight (default: 1.0)\n"
      ]
    },
    {
      "cell_type": "markdown",
      "id": "766e2a4c",
      "metadata": {},
      "source": [
        "#### Adding Documents with Schema Validation\n",
        "\n",
        "When using a custom schema, documents are automatically validated against the defined schema:\n"
      ]
    },
    {
      "cell_type": "code",
      "execution_count": null,
      "id": "4e9fcb1d",
      "metadata": {},
      "outputs": [],
      "source": [
        "import type { Document } from \"@langchain/core/documents\";\n",
        "\n",
        "const documentsWithMetadata: Document[] = [\n",
        "  {\n",
        "    pageContent: \"Advanced JavaScript techniques for modern web development\",\n",
        "    metadata: {\n",
        "      userId: \"user123\",\n",
        "      category: \"programming\",\n",
        "      score: 95,\n",
        "      tags: [\"javascript\", \"web-development\", \"frontend\"],\n",
        "      description: \"Comprehensive guide to JavaScript best practices\"\n",
        "    }\n",
        "  },\n",
        "  {\n",
        "    pageContent: \"Machine learning fundamentals and applications\",\n",
        "    metadata: {\n",
        "      userId: \"user456\", \n",
        "      category: \"ai\",\n",
        "      score: 88,\n",
        "      tags: [\"machine-learning\", \"python\", \"data-science\"],\n",
        "      description: \"Introduction to ML concepts and practical applications\"\n",
        "    }\n",
        "  },\n",
        "  {\n",
        "    pageContent: \"Database optimization strategies for high performance\",\n",
        "    metadata: {\n",
        "      userId: \"user789\",\n",
        "      category: \"database\",\n",
        "      score: 92,\n",
        "      tags: [\"database\", \"optimization\", \"performance\"],\n",
        "      description: \"Advanced techniques for database performance tuning\"\n",
        "    }\n",
        "  }\n",
        "];\n",
        "\n",
        "// This will validate each document's metadata against the custom schema\n",
        "await vectorStoreWithSchema.addDocuments(documentsWithMetadata);\n"
      ]
    },
    {
      "cell_type": "markdown",
      "id": "89919bf3",
      "metadata": {},
      "source": [
        "#### Advanced Similarity Search with Metadata Filtering\n",
        "\n",
        "The custom schema enables powerful metadata filtering capabilities using the `similaritySearchVectorWithScoreAndMetadata` method:\n"
      ]
    },
    {
      "cell_type": "code",
      "execution_count": null,
      "id": "5d7d8971",
      "metadata": {},
      "outputs": [],
      "source": [
        "// Search with TAG filtering\n",
        "const tagFilterResults = await vectorStoreWithSchema.similaritySearchVectorWithScoreAndMetadata(\n",
        "  await embeddings.embedQuery(\"programming tutorial\"),\n",
        "  3,\n",
        "  {\n",
        "    category: \"programming\",  // Exact tag match\n",
        "    tags: [\"javascript\", \"frontend\"]  // Multiple tag OR search\n",
        "  }\n",
        ");\n",
        "\n",
        "console.log(\"Tag filter results:\");\n",
        "for (const [doc, score] of tagFilterResults) {\n",
        "  console.log(`* [SIM=${score.toFixed(3)}] ${doc.pageContent}`);\n",
        "  console.log(`  Metadata: ${JSON.stringify(doc.metadata)}`);\n",
        "}\n"
      ]
    },
    {
      "cell_type": "code",
      "execution_count": null,
      "id": "be7d4a67",
      "metadata": {},
      "outputs": [],
      "source": [
        "// Search with NUMERIC range filtering\n",
        "const numericFilterResults = await vectorStoreWithSchema.similaritySearchVectorWithScoreAndMetadata(\n",
        "  await embeddings.embedQuery(\"high quality content\"),\n",
        "  5,\n",
        "  {\n",
        "    score: { min: 90, max: 100 },  // Score between 90 and 100\n",
        "    category: [\"programming\", \"ai\"]  // Multiple categories\n",
        "  }\n",
        ");\n",
        "\n",
        "console.log(\"Numeric filter results:\");\n",
        "for (const [doc, score] of numericFilterResults) {\n",
        "  console.log(`* [SIM=${score.toFixed(3)}] ${doc.pageContent}`);\n",
        "  console.log(`  Score: ${doc.metadata.score}, Category: ${doc.metadata.category}`);\n",
        "}\n"
      ]
    },
    {
      "cell_type": "code",
      "execution_count": null,
      "id": "dffc7a45",
      "metadata": {},
      "outputs": [],
      "source": [
        "// Search with TEXT field filtering  \n",
        "const textFilterResults = await vectorStoreWithSchema.similaritySearchVectorWithScoreAndMetadata(\n",
        "  await embeddings.embedQuery(\"development guide\"),\n",
        "  3,\n",
        "  {\n",
        "    description: \"comprehensive guide\",  // Text search in description field\n",
        "    score: { min: 85 }  // Minimum score of 85\n",
        "  }\n",
        ");\n",
        "\n",
        "console.log(\"Text filter results:\");\n",
        "for (const [doc, score] of textFilterResults) {\n",
        "  console.log(`* [SIM=${score.toFixed(3)}] ${doc.pageContent}`);\n",
        "  console.log(`  Description: ${doc.metadata.description}`);\n",
        "}\n"
      ]
    },
    {
      "cell_type": "markdown",
      "id": "81d59504",
      "metadata": {},
      "source": [
        "#### Numeric Range Query Options\n",
        "\n",
        "For numeric fields, you can specify various range queries:\n",
        "\n",
        "```typescript\n",
        "// Exact value match\n",
        "{ score: 95 }\n",
        "\n",
        "// Range with both min and max\n",
        "{ score: { min: 80, max: 100 } }\n",
        "\n",
        "// Only minimum value\n",
        "{ score: { min: 90 } }\n",
        "\n",
        "// Only maximum value  \n",
        "{ score: { max: 95 } }\n",
        "```\n",
        "\n",
        "#### Error Handling and Validation\n",
        "\n",
        "The custom schema provides automatic validation with helpful error messages:\n"
      ]
    },
    {
      "cell_type": "code",
      "execution_count": null,
      "id": "ecfae15f",
      "metadata": {},
      "outputs": [],
      "source": [
        "try {\n",
        "  // This will fail validation - missing required userId field\n",
        "  const invalidDoc: Document = {\n",
        "    pageContent: \"Some content without required metadata\",\n",
        "    metadata: {\n",
        "      category: \"test\",\n",
        "      // Missing required userId field\n",
        "    }\n",
        "  };\n",
        "  \n",
        "  await vectorStoreWithSchema.addDocuments([invalidDoc]);\n",
        "} catch (error) {\n",
        "  console.log(\"Validation error:\", error.message);\n",
        "  // Output: \"Required metadata field 'userId' is missing\"\n",
        "}\n",
        "\n",
        "try {\n",
        "  // This will fail validation - wrong type for score field\n",
        "  const wrongTypeDoc: Document = {\n",
        "    pageContent: \"Content with wrong metadata type\",\n",
        "    metadata: {\n",
        "      userId: \"user123\",\n",
        "      score: \"not-a-number\", // Should be number, not string\n",
        "    }\n",
        "  };\n",
        "  \n",
        "  await vectorStoreWithSchema.addDocuments([wrongTypeDoc]);\n",
        "} catch (error) {\n",
        "  console.log(\"Type validation error:\", error.message);\n",
        "  // Output: \"Metadata field 'score' must be a number, got string\"\n",
        "}\n"
      ]
    },
    {
      "cell_type": "markdown",
      "id": "0da8dc00",
      "metadata": {},
      "source": [
        "#### Performance Benefits\n",
        "\n",
        "Using custom schema provides several performance advantages:\n",
        "\n",
        "1. **Indexed Metadata Fields**: Individual metadata fields are indexed separately, enabling fast filtering\n",
        "2. **Type-Optimized Queries**: Numeric and tag fields use optimized query structures  \n",
        "3. **Reduced Data Transfer**: Only relevant fields are returned in search results\n",
        "4. **Better Query Planning**: Redis can optimize queries based on field types and indexes\n",
        "\n",
        "#### Backward Compatibility\n",
        "\n",
        "The custom schema feature is fully backward compatible. Existing Redis vector stores without custom schemas will continue to work exactly as before. You can gradually migrate to custom schemas for new indexes or when rebuilding existing ones.\n"
      ]
    },
    {
      "cell_type": "markdown",
      "id": "e2e0a211",
      "metadata": {},
      "source": [
        "### Usage for retrieval-augmented generation\n",
        "\n",
        "For guides on how to use this vector store for retrieval-augmented generation (RAG), see the following sections:\n",
        "\n",
        "- [Tutorials: working with external knowledge](/docs/tutorials/#working-with-external-knowledge).\n",
        "- [How-to: Question and answer with RAG](/docs/how_to/#qa-with-rag)\n",
        "- [Retrieval conceptual docs](/docs/concepts/retrieval)"
      ]
    },
    {
      "cell_type": "markdown",
      "id": "069f1b5f",
      "metadata": {},
      "source": [
        "## Deleting documents\n",
        "\n",
        "You can delete documents from the vector store in two ways:\n"
      ]
    },
    {
      "cell_type": "markdown",
      "id": "dde32a56",
      "metadata": {},
      "source": [
        "### Delete all documents\n",
        "\n",
        "You can delete an entire index and all its documents with the following command:"
      ]
    },
    {
      "cell_type": "code",
      "execution_count": 10,
      "id": "f71ce986",
      "metadata": {},
      "outputs": [],
      "source": [
        "await vectorStore.delete({ deleteAll: true });"
      ]
    },
    {
      "cell_type": "markdown",
      "id": "b77fa077",
      "metadata": {},
      "source": [
        "### Delete specific documents by ID\n",
        "\n",
        "You can also delete specific documents by providing their IDs. Note that the configured key prefix will be automatically added to the IDs you provide:\n"
      ]
    },
    {
      "cell_type": "code",
      "execution_count": 11,
      "id": "cb7a85ee",
      "metadata": {},
      "outputs": [],
      "source": [
        "// The key prefix will be automatically added to each ID\n",
        "await vectorStore.delete({ ids: [\"doc1\", \"doc2\", \"doc3\"] });\n"
      ]
    },
    {
      "cell_type": "markdown",
      "id": "bf2357b3",
      "metadata": {},
      "source": [
        "## Closing connections\n",
        "\n",
        "Make sure you close the client connection when you are finished to avoid excessive resource consumption:"
      ]
    },
    {
      "cell_type": "code",
      "execution_count": 12,
      "id": "48a98cba",
      "metadata": {},
      "outputs": [],
      "source": [
        "await client.disconnect();"
      ]
    },
    {
      "cell_type": "markdown",
      "id": "8a27244f",
      "metadata": {},
      "source": [
        "## API reference\n",
        "\n",
        "For detailed documentation of all `RedisVectorSearch` features and configurations head to the [API reference](https://api.js.langchain.com/classes/langchain_redis.RedisVectorStore.html)."
      ]
    }
  ],
  "metadata": {
    "kernelspec": {
      "display_name": "TypeScript",
      "language": "typescript",
      "name": "tslab"
    },
    "language_info": {
      "codemirror_mode": {
        "mode": "typescript",
        "name": "javascript",
        "typescript": true
      },
      "file_extension": ".ts",
      "mimetype": "text/typescript",
      "name": "typescript",
      "version": "3.7.2"
    }
  },
  "nbformat": 4,
  "nbformat_minor": 5
}
