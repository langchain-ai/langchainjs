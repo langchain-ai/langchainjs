{
 "cells": [
  {
   "cell_type": "raw",
   "id": "1957f5cb",
   "metadata": {
    "vscode": {
     "languageId": "raw"
    }
   },
   "source": [
    "---\n",
    "sidebar_label: Chroma\n",
    "---"
   ]
  },
  {
   "cell_type": "markdown",
   "id": "ef1f0986",
   "metadata": {},
   "source": [
    "# Chroma\n",
    "\n",
    "[Chroma](https://docs.trychroma.com/getting-started) is a AI-native open-source vector database focused on developer productivity and happiness. Chroma is licensed under Apache 2.0.\n",
    "\n",
    "This guide provides a quick overview for getting started with Chroma [`vector stores`](/docs/concepts/#vectorstores). For detailed documentation of all `Chroma` features and configurations head to the [API reference](https://api.js.langchain.com/classes/langchain_community_vectorstores_chroma.Chroma.html).\n",
    "\n",
    ":::info Chroma Cloud\n",
    "\n",
    "Chroma Cloud powers serverless vector and full-text search. It's extremely fast, cost-effective, scalable and painless. Create a DB and try it out in under 30 seconds with $5 of free credits.\n",
    "\n",
    "[Get started with Chroma Cloud](https://trychroma.com/signup)\n",
    "\n",
    ":::"
   ]
  },
  {
   "cell_type": "markdown",
   "id": "c824838d",
   "metadata": {},
   "source": [
    "## Overview\n",
    "\n",
    "### Integration details\n",
    "\n",
    "| Class | Package | [PY support](https://python.langchain.com/docs/integrations/vectorstores/chroma/) | Package latest |\n",
    "| :--- | :--- | :---: | :---: |\n",
    "| [`Chroma`](https://api.js.langchain.com/classes/langchain_community_vectorstores_chroma.Chroma.html) | [`@langchain/community`](https://www.npmjs.com/package/@langchain/community) | ✅ |  ![NPM - Version](https://img.shields.io/npm/v/@langchain/community?style=flat-square&label=%20&) |"
   ]
  },
  {
   "cell_type": "markdown",
   "id": "36fdc060",
   "metadata": {},
   "source": [
    "## Setup\n",
    "\n",
    "To use Chroma vector stores, you'll need to install the `@langchain/community` integration package along with the [Chroma JS SDK](https://www.npmjs.com/package/chromadb) as a peer dependency.\n",
    "\n",
    "This guide will also use [OpenAI embeddings](/docs/integrations/text_embedding/openai), which require you to install the `@langchain/openai` integration package. You can also use [other supported embeddings models](/docs/integrations/text_embedding) if you wish.\n",
    "\n",
    "```{=mdx}\n",
    "import IntegrationInstallTooltip from \"@mdx_components/integration_install_tooltip.mdx\";\n",
    "import Npm2Yarn from \"@theme/Npm2Yarn\";\n",
    "\n",
    "<IntegrationInstallTooltip></IntegrationInstallTooltip>\n",
    "\n",
    "<Npm2Yarn>\n",
    "  @langchain/community @langchain/openai @langchain/core chromadb\n",
    "</Npm2Yarn>\n",
    "```\n",
    "\n",
    "If you want to run Chroma locally, you can [run a local Chroma server](https://docs.trychroma.com/docs/cli/run) using the Chroma CLI, which ships with the `chromadb` package:\n",
    "\n",
    "```\n",
    "chroma run\n",
    "```\n",
    "\n",
    "You can also run a server on Docker, using the official Chroma image:\n",
    "\n",
    "```\n",
    "docker pull chromadb/chroma \n",
    "docker run -p 8000:8000 chromadb/chroma\n",
    "```\n",
    "\n",
    "### Credentials\n",
    "\n",
    "If you are running Chroma locally, you do not need to provide any credentials.\n",
    "\n",
    "If you are a [Chroma Cloud](https://trychroma.com/signup) user, set your `CHROMA_TENANT`, `CHROMA_DATABASE`, and `CHROMA_API_KEY` environment variables.\n",
    "\n",
    "The Chroma CLI can set these for you. First, [login](https://docs.trychroma.com/docs/cli/login) via the CLI, and then use the [`connect` command](https://docs.trychroma.com/docs/cli/db):\n",
    "\n",
    "```\n",
    "chroma db connect [db_name] --env-file\n",
    "```\n",
    "\n",
    "If you are using OpenAI embeddings for this guide, you'll need to set your OpenAI key as well:\n",
    "\n",
    "```typescript\n",
    "process.env.OPENAI_API_KEY = \"YOUR_API_KEY\";\n",
    "```\n",
    "\n",
    "If you want to get automated tracing of your model calls you can also set your [LangSmith](https://docs.smith.langchain.com/) API key by uncommenting below:\n",
    "\n",
    "```typescript\n",
    "// process.env.LANGSMITH_TRACING=\"true\"\n",
    "// process.env.LANGSMITH_API_KEY=\"your-api-key\"\n",
    "```"
   ]
  },
  {
   "cell_type": "markdown",
   "id": "93df377e",
   "metadata": {},
   "source": [
    "## Instantiation"
   ]
  },
  {
   "cell_type": "markdown",
   "id": "5f23cb84-cdfe-404e-96b2-7a23f15836a3",
   "metadata": {},
   "source": [
    "### Setup your embedding function\n",
    "\n",
    "First, choose your embedding function. Here we use `OpenAIEmbeddings`:"
   ]
  },
  {
   "cell_type": "code",
   "execution_count": null,
   "id": "bc05c239-3026-463c-aa2f-9f5630ee67a9",
   "metadata": {},
   "outputs": [],
   "source": [
    "import { OpenAIEmbeddings } from \"@langchain/openai\";\n",
    "\n",
    "const embeddings = new OpenAIEmbeddings({\n",
    "  model: \"text-embedding-3-small\",\n",
    "});"
   ]
  },
  {
   "cell_type": "markdown",
   "id": "d9e8c834-add8-4ed1-866b-c11df9cee0ff",
   "metadata": {},
   "source": [
    "### Running Locally\n",
    "\n",
    "A simple `Chroma` instantiation will connect to a Chroma server running locally on `http://localhost:8000`:"
   ]
  },
  {
   "cell_type": "code",
   "execution_count": null,
   "id": "dc37144c-208d-4ab3-9f3a-0407a69fe052",
   "metadata": {
    "tags": []
   },
   "outputs": [],
   "source": [
    "import { Chroma } from \"@langchain/community/vectorstores/chroma\";\n",
    "\n",
    "const vectorStore = new Chroma(embeddings, {\n",
    "  collectionName: \"a-test-collection\"\n",
    "});"
   ]
  },
  {
   "cell_type": "markdown",
   "id": "f310c7cb-5169-403a-b5b5-5bcca51f0ef7",
   "metadata": {},
   "source": [
    "If you are running your Chroma server using a different configuration, you can specify your `host`, `port` and whether to connect using `ssl`:"
   ]
  },
  {
   "cell_type": "code",
   "execution_count": null,
   "id": "5358d6de-c2a4-4768-bb06-99e05bb33c5d",
   "metadata": {},
   "outputs": [],
   "source": [
    "import { Chroma } from \"@langchain/community/vectorstores/chroma\";\n",
    "\n",
    "const vectorStore = new Chroma(embeddings, {\n",
    "  collectionName: \"a-test-collection\",\n",
    "  host: \"your-host-address\",\n",
    "  port: 8080\n",
    "});"
   ]
  },
  {
   "cell_type": "markdown",
   "id": "86e9a2eb-95d9-4d4c-bbcf-dd7a5dbf39f6",
   "metadata": {},
   "source": [
    "### Chroma Cloud\n",
    "\n",
    "To connect to Chroma Cloud, provide your `tenant`, `database`, and `chromaCloudAPIKey`:"
   ]
  },
  {
   "cell_type": "code",
   "execution_count": null,
   "id": "489a4531-b6f2-44a5-81a7-f9b57afa2b1d",
   "metadata": {},
   "outputs": [],
   "source": [
    "import { Chroma } from \"@langchain/community/vectorstores/chroma\";\n",
    "\n",
    "const vectorStore = new Chroma(embeddings, {\n",
    "  collectionName: \"a-test-collection\",\n",
    "  tenant: process.env.CHROMA_TENANT,\n",
    "  database: process.env.CHROMA_DATABASE,\n",
    "  chromaCloudAPIKey: process.env.CHROMA_API_KEY\n",
    "});"
   ]
  },
  {
   "cell_type": "markdown",
   "id": "ac6071d4",
   "metadata": {},
   "source": [
    "## Manage vector store\n",
    "\n",
    "### Add items to vector store"
   ]
  },
  {
   "cell_type": "code",
   "execution_count": null,
   "id": "17f5efc0",
   "metadata": {},
   "outputs": [],
   "source": [
    "import type { Document } from \"@langchain/core/documents\";\n",
    "\n",
    "const document1: Document = {\n",
    "  pageContent: \"The powerhouse of the cell is the mitochondria\",\n",
    "  metadata: { source: \"https://example.com\" }\n",
    "};\n",
    "\n",
    "const document2: Document = {\n",
    "  pageContent: \"Buildings are made out of brick\",\n",
    "  metadata: { source: \"https://example.com\" }\n",
    "};\n",
    "\n",
    "const document3: Document = {\n",
    "  pageContent: \"Mitochondria are made out of lipids\",\n",
    "  metadata: { source: \"https://example.com\" }\n",
    "};\n",
    "\n",
    "const document4: Document = {\n",
    "  pageContent: \"The 2024 Olympics are in Paris\",\n",
    "  metadata: { source: \"https://example.com\" }\n",
    "}\n",
    "\n",
    "const documents = [document1, document2, document3, document4];\n",
    "\n",
    "await vectorStore.addDocuments(documents, { ids: [\"1\", \"2\", \"3\", \"4\"] });"
   ]
  },
  {
   "cell_type": "markdown",
   "id": "dcf1b905",
   "metadata": {},
   "source": [
    "### Delete items from vector store\n",
    "\n",
    "You can delete documents from Chroma by id as follows:"
   ]
  },
  {
   "cell_type": "code",
   "execution_count": null,
   "id": "ef61e188",
   "metadata": {},
   "outputs": [],
   "source": [
    "await vectorStore.delete({ ids: [\"4\"] });"
   ]
  },
  {
   "cell_type": "markdown",
   "id": "c3620501",
   "metadata": {},
   "source": [
    "## Query vector store\n",
    "\n",
    "Once your vector store has been created and the relevant documents have been added you will most likely wish to query it during the running of your chain or agent. \n",
    "\n",
    "### Query directly\n",
    "\n",
    "Performing a simple similarity search can be done as follows:"
   ]
  },
  {
   "cell_type": "code",
   "execution_count": null,
   "id": "aa0a16fa",
   "metadata": {},
   "outputs": [],
   "source": [
    "const filter = { source: \"https://example.com\" };\n",
    "\n",
    "const similaritySearchResults = await vectorStore.similaritySearch(\"biology\", 2, filter);\n",
    "\n",
    "for (const doc of similaritySearchResults) {\n",
    "  console.log(`* ${doc.pageContent} [${JSON.stringify(doc.metadata, null)}]`);\n",
    "}"
   ]
  },
  {
   "cell_type": "markdown",
   "id": "3ed9d733",
   "metadata": {},
   "source": [
    "See [this page](https://docs.trychroma.com/guides#filtering-by-metadata) for more on Chroma filter syntax.\n",
    "\n",
    "If you want to execute a similarity search and receive the corresponding scores you can run:"
   ]
  },
  {
   "cell_type": "code",
   "execution_count": null,
   "id": "5efd2eaa",
   "metadata": {},
   "outputs": [],
   "source": [
    "const similaritySearchWithScoreResults = await vectorStore.similaritySearchWithScore(\"biology\", 2, filter)\n",
    "\n",
    "for (const [doc, score] of similaritySearchWithScoreResults) {\n",
    "  console.log(`* [SIM=${score.toFixed(3)}] ${doc.pageContent} [${JSON.stringify(doc.metadata)}]`);\n",
    "}"
   ]
  },
  {
   "cell_type": "markdown",
   "id": "0c235cdc",
   "metadata": {},
   "source": [
    "### Query by turning into retriever\n",
    "\n",
    "You can also transform the vector store into a [retriever](/docs/concepts/retrievers) for easier usage in your chains. "
   ]
  },
  {
   "cell_type": "code",
   "execution_count": null,
   "id": "f3460093",
   "metadata": {},
   "outputs": [],
   "source": [
    "const retriever = vectorStore.asRetriever({\n",
    "  // Optional filter\n",
    "  filter: filter,\n",
    "  k: 2,\n",
    "});\n",
    "await retriever.invoke(\"biology\");"
   ]
  },
  {
   "cell_type": "markdown",
   "id": "e2e0a211",
   "metadata": {},
   "source": [
    "### Usage for retrieval-augmented generation\n",
    "\n",
    "For guides on how to use this vector store for retrieval-augmented generation (RAG), see the following sections:\n",
    "\n",
    "- [Tutorials: working with external knowledge](/docs/tutorials/#working-with-external-knowledge).\n",
    "- [How-to: Question and answer with RAG](/docs/how_to/#qa-with-rag)\n",
    "- [Retrieval conceptual docs](/docs/concepts/retrieval)"
   ]
  },
  {
   "cell_type": "markdown",
   "id": "8a27244f",
   "metadata": {},
   "source": [
    "## API reference\n",
    "\n",
    "For detailed documentation of all `Chroma` features and configurations head to the [API reference](https://api.js.langchain.com/classes/langchain_community_vectorstores_chroma.Chroma.html)"
   ]
  }
 ],
 "metadata": {
  "kernelspec": {
   "display_name": "Python 3 (ipykernel)",
   "language": "python",
   "name": "python3"
  },
  "language_info": {
   "codemirror_mode": {
    "name": "ipython",
    "version": 3
   },
   "file_extension": ".py",
   "mimetype": "text/x-python",
   "name": "python",
   "nbconvert_exporter": "python",
   "pygments_lexer": "ipython3",
   "version": "3.13.0"
  }
 },
 "nbformat": 4,
 "nbformat_minor": 5
}
